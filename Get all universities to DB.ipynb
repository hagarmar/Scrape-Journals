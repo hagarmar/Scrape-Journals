{
 "cells": [
  {
   "cell_type": "code",
   "execution_count": 1,
   "metadata": {
    "collapsed": false
   },
   "outputs": [
    {
     "name": "stdout",
     "output_type": "stream",
     "text": [
      "10881\n"
     ]
    }
   ],
   "source": [
    "from bs4 import BeautifulSoup\n",
    "import requests \n",
    "import time\n",
    "import re\n",
    "\n",
    "all_indexes = [str(x) for x in range(1,28)]\n",
    "all_indexes[0] = \"0001\"\n",
    "\n",
    "all_universities_data = []\n",
    "\n",
    "p = re.compile(\"^\\/.*htm$\")\n",
    "\n",
    "for num_index in all_indexes: \n",
    "    page = requests.get(\"http://www.4icu.org/reviews/index%s.htm\" % num_index)\n",
    "    time.sleep(1) # pause 1 sec between gets\n",
    "    \n",
    "    soup = BeautifulSoup(page.text)\n",
    "\n",
    "    universities_table = soup.find_all(\"tr\")\n",
    "\n",
    "    for university in universities_table:\n",
    "        if university.img:\n",
    "            uni_img_alt = university.img.get(\"alt\").split(\">\")\n",
    "            if len(uni_img_alt)>1:\n",
    "                one_uni  = {\"name\":uni_img_alt[1].strip(), \"country\":uni_img_alt[0].strip()}            \n",
    "                tmp_url = p.findall(university.find_all(\"a\")[1].get(\"href\"))\n",
    "\n",
    "                if tmp_url:\n",
    "                    \n",
    "                    # this is in order to actually get university URL\n",
    "                    # there are 10,000+ unis, this is not very relevant at the moment,\n",
    "                    # so index will be the site uni url\n",
    "                    #print university.find_all(\"a\")\n",
    "\n",
    "                    #page2 = requests.get(\"http://www.4icu.org\" + tmp_url[0])\n",
    "                    #soup2 = BeautifulSoup(page2.text)\n",
    "                    #one_uni[\"url\"]= soup2.find(class_=\"span_1_of_2\").a.get(\"href\")\n",
    "                    one_uni[\"url\"]= \"http://www.4icu.org\" + tmp_url[0]\n",
    "                    \n",
    "                if one_uni not in all_universities_data and \"url\" in one_uni.keys():\n",
    "                    all_universities_data.append(one_uni)\n",
    "                \n",
    "print len(all_universities_data)"
   ]
  },
  {
   "cell_type": "code",
   "execution_count": 2,
   "metadata": {
    "collapsed": false
   },
   "outputs": [],
   "source": [
    "# insert to db\n",
    "\n",
    "from pymongo import MongoClient\n",
    "\n",
    "connection = MongoClient('localhost', 27017)\n",
    "db = connection.journals\n",
    "collection = db.universities\n",
    "\n",
    "collection.insert(all_universities_data)\n",
    "\n",
    "connection.close()"
   ]
  },
  {
   "cell_type": "code",
   "execution_count": 4,
   "metadata": {
    "collapsed": false
   },
   "outputs": [],
   "source": [
    "# after insert, indexed by url (asc)\n",
    "import pymongo\n",
    "from pymongo import MongoClient\n",
    "\n",
    "connection = MongoClient('localhost', 27017)\n",
    "db = connection.journals\n",
    "collection = db.universities\n",
    "collection.create_index(\"url\", pymongo.ASCENDING)\n",
    "\n",
    "connection.close()"
   ]
  },
  {
   "cell_type": "code",
   "execution_count": null,
   "metadata": {
    "collapsed": true
   },
   "outputs": [],
   "source": []
  }
 ],
 "metadata": {
  "kernelspec": {
   "display_name": "Python 2",
   "language": "python",
   "name": "python2"
  },
  "language_info": {
   "codemirror_mode": {
    "name": "ipython",
    "version": 2
   },
   "file_extension": ".py",
   "mimetype": "text/x-python",
   "name": "python",
   "nbconvert_exporter": "python",
   "pygments_lexer": "ipython2",
   "version": "2.7.6"
  }
 },
 "nbformat": 4,
 "nbformat_minor": 0
}
